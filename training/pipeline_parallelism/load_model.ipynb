{
 "cells": [
  {
   "cell_type": "code",
   "execution_count": 1,
   "metadata": {},
   "outputs": [],
   "source": [
    "import torch\n",
    "from models import MLP\n",
    "import os"
   ]
  },
  {
   "cell_type": "code",
   "execution_count": 2,
   "metadata": {},
   "outputs": [],
   "source": [
    "deepseed_model = MLP(stages=1)\n",
    "adag_model = MLP(stages=1)"
   ]
  },
  {
   "cell_type": "code",
   "execution_count": 3,
   "metadata": {},
   "outputs": [
    {
     "name": "stdout",
     "output_type": "stream",
     "text": [
      "Model state dictionaries loaded successfully!\n"
     ]
    }
   ],
   "source": [
    "step = 100\n",
    "deepseed_model.load_state_dicts(f\"/mnt/local_storage/mlp_benchmark/deepspeed/global_step{step}\")\n",
    "\n",
    "# net_new.load_state_dicts(\"ckpt_new/global_step1\")"
   ]
  },
  {
   "cell_type": "code",
   "execution_count": 4,
   "metadata": {},
   "outputs": [],
   "source": [
    "def update_state_dict_keys(state_dict):\n",
    "    updated_state_dict = {}\n",
    "    for key, value in state_dict.items():\n",
    "        new_key = f\"model.{key}\"\n",
    "        updated_state_dict[new_key] = value\n",
    "    return updated_state_dict"
   ]
  },
  {
   "cell_type": "code",
   "execution_count": 5,
   "metadata": {},
   "outputs": [],
   "source": [
    "adag_state_dict = torch.load(f\"/mnt/local_storage/mlp_benchmark/adag/step{step}_model.pth\")\n",
    "adag_state_dict = update_state_dict_keys(adag_state_dict)"
   ]
  },
  {
   "cell_type": "code",
   "execution_count": 6,
   "metadata": {},
   "outputs": [
    {
     "data": {
      "text/plain": [
       "<All keys matched successfully>"
      ]
     },
     "execution_count": 6,
     "metadata": {},
     "output_type": "execute_result"
    }
   ],
   "source": [
    "adag_model.load_state_dict(adag_state_dict)"
   ]
  },
  {
   "cell_type": "code",
   "execution_count": 8,
   "metadata": {},
   "outputs": [
    {
     "name": "stdout",
     "output_type": "stream",
     "text": [
      "Layer model.0.weight: Match\n",
      "Layer model.0.bias: Match\n",
      "Layer model.2.weight: Match\n",
      "Layer model.2.bias: Match\n",
      "Layer model.4.weight: Match\n",
      "Layer model.4.bias: Match\n",
      "Layer model.6.weight: Match\n",
      "Layer model.6.bias: Match\n",
      "Layer model.8.weight: Match\n",
      "Layer model.8.bias: Match\n",
      "Layer model.10.weight: Match\n",
      "Layer model.10.bias: Match\n",
      "Layer model.12.weight: Match\n",
      "Layer model.12.bias: Match\n",
      "Layer model.14.weight: Match\n",
      "Layer model.14.bias: Match\n",
      "Layer model.16.weight: Match\n",
      "Layer model.16.bias: Mismatch\n",
      "Max Difference: 0.000538\n"
     ]
    }
   ],
   "source": [
    "mismatch = False\n",
    "# Compare the values in each layer\n",
    "for (adag_name, adag_param), (ds_name, ds_param) in zip(adag_model.named_parameters(), deepseed_model.named_parameters()):\n",
    "    if torch.allclose(adag_param, ds_param, atol=1e-4):\n",
    "        print(f\"Layer {ds_name}: Match\")\n",
    "    else:\n",
    "        difference = adag_param - ds_param\n",
    "        print(f\"Layer {ds_name}: Mismatch\")\n",
    "        print(f\"Max Difference: {difference.max():.6f}\")"
   ]
  },
  {
   "cell_type": "code",
   "execution_count": null,
   "metadata": {},
   "outputs": [],
   "source": []
  }
 ],
 "metadata": {
  "kernelspec": {
   "display_name": "base",
   "language": "python",
   "name": "python3"
  },
  "language_info": {
   "codemirror_mode": {
    "name": "ipython",
    "version": 3
   },
   "file_extension": ".py",
   "mimetype": "text/x-python",
   "name": "python",
   "nbconvert_exporter": "python",
   "pygments_lexer": "ipython3",
   "version": "3.10.14"
  }
 },
 "nbformat": 4,
 "nbformat_minor": 2
}
